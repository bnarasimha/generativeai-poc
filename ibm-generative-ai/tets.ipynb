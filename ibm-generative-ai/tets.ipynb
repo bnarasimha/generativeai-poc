{
 "cells": [
  {
   "cell_type": "code",
   "execution_count": 3,
   "metadata": {},
   "outputs": [
    {
     "name": "stdout",
     "output_type": "stream",
     "text": [
      "page_content='Gartner, Inc. | G00773948 Page 1 of 22Vendor Rating: IBM\\nPublished 25 May 2023 - ID G00773948 - 25 min read\\nBy Analyst(s): Arun Chandrasekaran, Sandra Notardonato, Jo Ann Rosenberger, Ed\\nAnderson, Paul Vincent, Chris Saunderson, Robert Thanaraj, Craig Lowery\\nInitiatives:IT Sourcing Strategy Development and Execution\\nIBM’s bets on AI and hybrid cloud are aligned with CIOs’ priorities.\\nThe growing adoption of hybrid and multicloud and recent industry\\ninnovations in Generative AI present opportunities and challenges\\nfor IBM. This research provides insights to aid sourcing leaders in\\na rapidly evolving landscape.\\nThis research note is restricted to the personal use of mark_devlin@uk.ibm.com.' metadata={'source': '../assets/gartner_vendor_rating_ibm.pdf', 'page': 0}\n"
     ]
    }
   ],
   "source": [
    "from langchain.document_loaders import PyPDFDirectoryLoader\n",
    "from langchain.chains.question_answering import load_qa_chain\n",
    "from genai.model import Credentials\n",
    "from genai.schemas import GenerateParams\n",
    "from genai.extensions.langchain.llm import LangChainInterface\n",
    "from dotenv import load_dotenv\n",
    "from os import environ\n",
    "\n",
    "\n",
    "load_dotenv()\n",
    "\n",
    "loader = PyPDFDirectoryLoader('../assets/.')\n",
    "documents = loader.load_and_split()\n",
    "print(documents[0])\n"
   ]
  }
 ],
 "metadata": {
  "kernelspec": {
   "display_name": "base",
   "language": "python",
   "name": "python3"
  },
  "language_info": {
   "codemirror_mode": {
    "name": "ipython",
    "version": 3
   },
   "file_extension": ".py",
   "mimetype": "text/x-python",
   "name": "python",
   "nbconvert_exporter": "python",
   "pygments_lexer": "ipython3",
   "version": "3.9.13"
  },
  "orig_nbformat": 4
 },
 "nbformat": 4,
 "nbformat_minor": 2
}
