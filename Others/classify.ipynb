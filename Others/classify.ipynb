{
 "cells": [
  {
   "cell_type": "code",
   "execution_count": null,
   "metadata": {},
   "outputs": [
    {
     "ename": "",
     "evalue": "",
     "output_type": "error",
     "traceback": [
      "\u001b[1;31mFailed to start the Kernel. \n",
      "\u001b[1;31mTraceback (most recent call last):\n",
      "\u001b[1;31m  File \"/Users/narasimhabadrinath/opt/anaconda3/lib/python3.9/runpy.py\", line 197, in _run_module_as_main\n",
      "\u001b[1;31m    return _run_code(code, main_globals, None,\n",
      "\u001b[1;31m  File \"/Users/narasimhabadrinath/opt/anaconda3/lib/python3.9/runpy.py\", line 87, in _run_code\n",
      "\u001b[1;31m    exec(code, run_globals)\n",
      "\u001b[1;31m  File \"/Users/narasimhabadrinath/opt/anaconda3/lib/python3.9/site-packages/ipykernel_launcher.py\", line 15, in <module>\n",
      "\u001b[1;31m    from ipykernel import kernelapp as app\n",
      "\u001b[1;31m  File \"/Users/narasimhabadrinath/opt/anaconda3/lib/python3.9/site-packages/ipykernel/kernelapp.py\", line 51, in <module>\n",
      "\u001b[1;31m    from .ipkernel import IPythonKernel\n",
      "\u001b[1;31m  File \"/Users/narasimhabadrinath/opt/anaconda3/lib/python3.9/site-packages/ipykernel/ipkernel.py\", line 19, in <module>\n",
      "\u001b[1;31m    from .debugger import Debugger, _is_debugpy_available\n",
      "\u001b[1;31m  File \"/Users/narasimhabadrinath/opt/anaconda3/lib/python3.9/site-packages/ipykernel/debugger.py\", line 22, in <module>\n",
      "\u001b[1;31m    from debugpy.server import api  # noqa\n",
      "\u001b[1;31m  File \"/Users/narasimhabadrinath/opt/anaconda3/lib/python3.9/site-packages/debugpy/server/__init__.py\", line 9, in <module>\n",
      "\u001b[1;31m    import debugpy._vendored.force_pydevd  # noqa\n",
      "\u001b[1;31m  File \"/Users/narasimhabadrinath/opt/anaconda3/lib/python3.9/site-packages/debugpy/_vendored/force_pydevd.py\", line 37, in <module>\n",
      "\u001b[1;31m    pydevd_constants = import_module('_pydevd_bundle.pydevd_constants')\n",
      "\u001b[1;31m  File \"/Users/narasimhabadrinath/opt/anaconda3/lib/python3.9/importlib/__init__.py\", line 127, in import_module\n",
      "\u001b[1;31m    return _bootstrap._gcd_import(name[level:], package, level)\n",
      "\u001b[1;31m  File \"/Users/narasimhabadrinath/opt/anaconda3/lib/python3.9/site-packages/debugpy/_vendored/pydevd/_pydevd_bundle/pydevd_constants.py\", line 365, in <module>\n",
      "\u001b[1;31m    from _pydev_imps._pydev_saved_modules import thread, threading\n",
      "\u001b[1;31m  File \"/Users/narasimhabadrinath/opt/anaconda3/lib/python3.9/site-packages/debugpy/_vendored/pydevd/_pydev_imps/_pydev_saved_modules.py\", line 93, in <module>\n",
      "\u001b[1;31m    import code as _code;    verify_shadowed.check(_code, ['compile_command', 'InteractiveInterpreter'])\n",
      "\u001b[1;31m  File \"/Users/narasimhabadrinath/opt/anaconda3/lib/python3.9/site-packages/debugpy/_vendored/pydevd/_pydev_imps/_pydev_saved_modules.py\", line 77, in check\n",
      "\u001b[1;31m    raise DebuggerInitializationError(msg)\n",
      "\u001b[1;31m_pydev_imps._pydev_saved_modules.DebuggerInitializationError: It was not possible to initialize the debugger due to a module name conflict.\n",
      "\u001b[1;31m\n",
      "\u001b[1;31mi.e.: the module \"code\" could not be imported because it is shadowed by:\n",
      "\u001b[1;31m/Users/narasimhabadrinath/Library/Mobile Documents/com~apple~CloudDocs/Documents/iCloud/GitHub/generativeai-poc/Others/code.py\n",
      "\u001b[1;31mPlease rename this file/folder so that the original module from the standard library can be imported. \n",
      "\u001b[1;31mView Jupyter <a href='command:jupyter.viewOutput'>log</a> for further details."
     ]
    }
   ],
   "source": [
    "import openai\n",
    "import os\n",
    "\n",
    "# Replace 'YOUR_OPENAI_API_KEY' with your actual API key\n",
    "openai.api_key = os.environ['OPENAI_API_KEY']\n",
    "\n",
    "def classify_paragraph(text):\n",
    "    response = openai.Completion.create(\n",
    "        engine=\"text-davinci-002\",\n",
    "        prompt=text,\n",
    "        temperature=0.7,\n",
    "        max_tokens=150,\n",
    "        stop=[\"\\n\"]\n",
    "    )\n",
    "    # In this example, we'll assume the model returns categories as plain text.\n",
    "    # You can modify this function based on the specific output format of your model.\n",
    "    category = response['choices'][0]['text'].strip()\n",
    "    return category\n",
    "\n",
    "paragraphs = [\n",
    "    'Loved the session.',\n",
    "    'It was very good session. Got the basic understanding of CIO CI CD and its capabilities',\n",
    "    'I was expecting more advanced topics will be covered.',\n",
    "    'I am looking forward to implement. Need help.',\n",
    "    'Was a great session. Very well explained.'\n",
    "]\n",
    "\n",
    "for paragraph in paragraphs:\n",
    "    category = classify_paragraph(paragraph)\n",
    "    print(\"Paragraph:\", paragraph)\n",
    "    print(\"Category:\", category)\n",
    "    print(\"-\" * 50)\n"
   ]
  }
 ],
 "metadata": {
  "kernelspec": {
   "display_name": "base",
   "language": "python",
   "name": "python3"
  },
  "language_info": {
   "name": "python",
   "version": "3.9.13"
  },
  "orig_nbformat": 4
 },
 "nbformat": 4,
 "nbformat_minor": 2
}
