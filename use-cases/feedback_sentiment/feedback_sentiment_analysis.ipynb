{
 "cells": [
  {
   "cell_type": "code",
   "execution_count": 1,
   "metadata": {},
   "outputs": [
    {
     "name": "stdout",
     "output_type": "stream",
     "text": [
      "['positive', 'positive', 'positive', 'positive', 'positive', 'positive', 'positive', 'negative', 'positive', 'positive', 'positive', 'positive', 'positive', 'positive', 'positive', 'negative', 'positive', 'positive', 'positive', 'positive', 'positive', 'positive', 'positive', 'positive', 'positive', 'positive', 'negative', 'positive', 'positive', 'positive', 'positive', 'positive', 'positive', 'positive', 'positive', 'positive', 'positive', 'positive', 'positive', 'positive', 'positive', 'positive', 'positive', 'positive', 'positive', 'negative', 'positive', 'positive', 'positive']\n"
     ]
    },
    {
     "data": {
      "text/html": [
       "<div>\n",
       "<style scoped>\n",
       "    .dataframe tbody tr th:only-of-type {\n",
       "        vertical-align: middle;\n",
       "    }\n",
       "\n",
       "    .dataframe tbody tr th {\n",
       "        vertical-align: top;\n",
       "    }\n",
       "\n",
       "    .dataframe thead th {\n",
       "        text-align: right;\n",
       "    }\n",
       "</style>\n",
       "<table border=\"1\" class=\"dataframe\">\n",
       "  <thead>\n",
       "    <tr style=\"text-align: right;\">\n",
       "      <th></th>\n",
       "      <th>Id</th>\n",
       "      <th>Sentiment</th>\n",
       "      <th>Feedback</th>\n",
       "    </tr>\n",
       "  </thead>\n",
       "  <tbody>\n",
       "    <tr>\n",
       "      <th>7</th>\n",
       "      <td>8</td>\n",
       "      <td>negative</td>\n",
       "      <td>Need more time to learn, understand and then participate effectively. This seems to be too fast with many things not in place. Lots of issues which lot of people are facing.</td>\n",
       "    </tr>\n",
       "    <tr>\n",
       "      <th>15</th>\n",
       "      <td>16</td>\n",
       "      <td>negative</td>\n",
       "      <td>While the sessions have offered a beneficial roadmap for our current challenge, there is still a lack of clarity and a limited understanding at this point.</td>\n",
       "    </tr>\n",
       "    <tr>\n",
       "      <th>26</th>\n",
       "      <td>27</td>\n",
       "      <td>negative</td>\n",
       "      <td>Looking for more information on use case submission.</td>\n",
       "    </tr>\n",
       "    <tr>\n",
       "      <th>45</th>\n",
       "      <td>46</td>\n",
       "      <td>negative</td>\n",
       "      <td>Expecting sample use case demo challenge to get hold of tracks</td>\n",
       "    </tr>\n",
       "  </tbody>\n",
       "</table>\n",
       "</div>"
      ],
      "text/plain": [
       "    Id Sentiment  \\\n",
       "7    8  negative   \n",
       "15  16  negative   \n",
       "26  27  negative   \n",
       "45  46  negative   \n",
       "\n",
       "                                                                                                                                                                         Feedback  \n",
       "7   Need more time to learn, understand and then participate effectively. This seems to be too fast with many things not in place. Lots of issues which lot of people are facing.  \n",
       "15                    While the sessions have offered a beneficial roadmap for our current challenge, there is still a lack of clarity and a limited understanding at this point.  \n",
       "26                                                                                                                           Looking for more information on use case submission.  \n",
       "45                                                                                                                 Expecting sample use case demo challenge to get hold of tracks  "
      ]
     },
     "execution_count": 1,
     "metadata": {},
     "output_type": "execute_result"
    }
   ],
   "source": [
    "import os\n",
    "import pandas as pd\n",
    "from genai.credentials import Credentials\n",
    "from genai.schemas import GenerateParams\n",
    "from genai.model import Model\n",
    "from dotenv import load_dotenv\n",
    "\n",
    "load_dotenv()\n",
    "api_key = os.getenv(\"GENAI_KEY\", None)\n",
    "api_url = os.getenv(\"GENAI_API\", None)\n",
    "\n",
    "creds = Credentials(api_key=api_key, api_endpoint=api_url)\n",
    "params = GenerateParams(decoding_method=\"greedy\", min_new_tokens=1, max_new_tokens=10)\n",
    "model = Model(\"google/flan-ul2\", params=params, credentials=creds)\n",
    "\n",
    "pd.set_option('display.max_colwidth', 200)\n",
    "\n",
    "df = pd.read_csv(\"../../assets/session_feedback.csv\")\n",
    "#df = pd.read_csv(\"../../assets/session_feedback_10.csv\")\n",
    "\n",
    "feedback_list = df[\"Feedback\"].tolist()\n",
    "sentiment_array = []\n",
    "\n",
    "for feedback in feedback_list:\n",
    "    prompt = f\"\"\"Classify this review as positive or negative. \n",
    "    Review: \n",
    "    {feedback}\n",
    "    \"\"\"\n",
    "    result = model.generate([prompt])    \n",
    "    sentiment_array.append(result[0].generated_text)\n",
    "\n",
    "print(sentiment_array)\n",
    "df.insert(1, \"Sentiment\", sentiment_array, True)\n",
    "df.head(50)\n",
    "\n",
    "df_negative =  df[df[\"Sentiment\"] == \"negative\"]\n",
    "df_negative.head(10)\n"
   ]
  },
  {
   "cell_type": "code",
   "execution_count": null,
   "metadata": {},
   "outputs": [],
   "source": []
  }
 ],
 "metadata": {
  "kernelspec": {
   "display_name": "base",
   "language": "python",
   "name": "python3"
  },
  "language_info": {
   "codemirror_mode": {
    "name": "ipython",
    "version": 3
   },
   "file_extension": ".py",
   "mimetype": "text/x-python",
   "name": "python",
   "nbconvert_exporter": "python",
   "pygments_lexer": "ipython3",
   "version": "3.9.13"
  },
  "orig_nbformat": 4
 },
 "nbformat": 4,
 "nbformat_minor": 2
}
