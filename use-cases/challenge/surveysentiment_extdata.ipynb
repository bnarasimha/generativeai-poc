{
 "cells": [
  {
   "cell_type": "code",
   "execution_count": 1,
   "metadata": {},
   "outputs": [],
   "source": [
    "import os\n",
    "import time\n",
    "import pandas as pd\n",
    "from dotenv import load_dotenv\n",
    "from genai.credentials import Credentials\n",
    "from genai.schemas import GenerateParams\n",
    "from genai.model import Model"
   ]
  },
  {
   "cell_type": "code",
   "execution_count": 2,
   "metadata": {},
   "outputs": [],
   "source": [
    "df = pd.read_json(\"assets/sentiments_dataset.jsonl\", lines = True) \n",
    "df.head()\n",
    "df.drop(columns=[\"label_text\", \"label\"], inplace=True)\n",
    "top5_input = df.head()"
   ]
  },
  {
   "cell_type": "code",
   "execution_count": 3,
   "metadata": {},
   "outputs": [],
   "source": [
    "\n",
    "def generate(top5_input):\n",
    "    load_dotenv()\n",
    "    api_key = os.getenv(\"GENAI_KEY\", None)\n",
    "    api_url = os.getenv(\"GENAI_API\", None)\n",
    "\n",
    "    creds = Credentials(api_key=api_key, api_endpoint=api_url)\n",
    "\n",
    "    params = GenerateParams(decoding_method=\"greedy\", max_new_tokens=200)\n",
    "    model = Model(\"google/flan-ul2\", params=params, credentials=creds)\n",
    "\n",
    "    print(\"-------------\")\n",
    "\n",
    "    for i in range(len(top5_input)):\n",
    "        sentence = df.loc[i, \"text\"]\n",
    "        prompt = f\"\"\"Classify this sentiment: {sentence}\"\"\"\n",
    "\n",
    "        response = model.generate([prompt])\n",
    "        res_sentence = response[0].generated_text\n",
    "        \n",
    "        time.sleep(2)\n",
    "        print(res_sentence)"
   ]
  },
  {
   "cell_type": "code",
   "execution_count": 4,
   "metadata": {},
   "outputs": [
    {
     "name": "stdout",
     "output_type": "stream",
     "text": [
      "-------------\n"
     ]
    },
    {
     "ename": "GenAiException",
     "evalue": "b'{\"status_code\":503,\"error\":\"Service Unavailable\",\"message\":\"The model is temporarily unavailable. This is most likely a temporary condition.\",\"extensions\":{\"code\":\"SERVICE_UNAVAILABLE\",\"reason\":\"NO_CONNECTION\"}}'",
     "output_type": "error",
     "traceback": [
      "\u001b[0;31m---------------------------------------------------------------------------\u001b[0m",
      "\u001b[0;31mGenAiException\u001b[0m                            Traceback (most recent call last)",
      "\u001b[0;32m/var/folders/2h/kpk__fn95bx0s106p86ms03h0000gn/T/ipykernel_2758/2075315841.py\u001b[0m in \u001b[0;36m<module>\u001b[0;34m\u001b[0m\n\u001b[0;32m----> 1\u001b[0;31m \u001b[0mgenerate\u001b[0m\u001b[0;34m(\u001b[0m\u001b[0mtop5_input\u001b[0m\u001b[0;34m)\u001b[0m\u001b[0;34m\u001b[0m\u001b[0;34m\u001b[0m\u001b[0m\n\u001b[0m",
      "\u001b[0;32m/var/folders/2h/kpk__fn95bx0s106p86ms03h0000gn/T/ipykernel_2758/2462827044.py\u001b[0m in \u001b[0;36mgenerate\u001b[0;34m(top5_input)\u001b[0m\n\u001b[1;32m     15\u001b[0m         \u001b[0mprompt\u001b[0m \u001b[0;34m=\u001b[0m \u001b[0;34mf\"\"\"Classify this sentiment: {sentence}\"\"\"\u001b[0m\u001b[0;34m\u001b[0m\u001b[0;34m\u001b[0m\u001b[0m\n\u001b[1;32m     16\u001b[0m \u001b[0;34m\u001b[0m\u001b[0m\n\u001b[0;32m---> 17\u001b[0;31m         \u001b[0mresponse\u001b[0m \u001b[0;34m=\u001b[0m \u001b[0mmodel\u001b[0m\u001b[0;34m.\u001b[0m\u001b[0mgenerate\u001b[0m\u001b[0;34m(\u001b[0m\u001b[0;34m[\u001b[0m\u001b[0mprompt\u001b[0m\u001b[0;34m]\u001b[0m\u001b[0;34m)\u001b[0m\u001b[0;34m\u001b[0m\u001b[0;34m\u001b[0m\u001b[0m\n\u001b[0m\u001b[1;32m     18\u001b[0m         \u001b[0mres_sentence\u001b[0m \u001b[0;34m=\u001b[0m \u001b[0mresponse\u001b[0m\u001b[0;34m[\u001b[0m\u001b[0;36m0\u001b[0m\u001b[0;34m]\u001b[0m\u001b[0;34m.\u001b[0m\u001b[0mgenerated_text\u001b[0m\u001b[0;34m\u001b[0m\u001b[0;34m\u001b[0m\u001b[0m\n\u001b[1;32m     19\u001b[0m \u001b[0;34m\u001b[0m\u001b[0m\n",
      "\u001b[0;32m~/opt/anaconda3/lib/python3.9/site-packages/genai/model.py\u001b[0m in \u001b[0;36mgenerate\u001b[0;34m(self, prompts, options)\u001b[0m\n\u001b[1;32m    131\u001b[0m             \u001b[0mlist\u001b[0m\u001b[0;34m[\u001b[0m\u001b[0mGenerateResult\u001b[0m\u001b[0;34m]\u001b[0m\u001b[0;34m:\u001b[0m \u001b[0mA\u001b[0m \u001b[0mlist\u001b[0m \u001b[0mof\u001b[0m \u001b[0mresults\u001b[0m\u001b[0;34m\u001b[0m\u001b[0;34m\u001b[0m\u001b[0m\n\u001b[1;32m    132\u001b[0m         \"\"\"\n\u001b[0;32m--> 133\u001b[0;31m         \u001b[0;32mreturn\u001b[0m \u001b[0mlist\u001b[0m\u001b[0;34m(\u001b[0m\u001b[0mself\u001b[0m\u001b[0;34m.\u001b[0m\u001b[0mgenerate_as_completed\u001b[0m\u001b[0;34m(\u001b[0m\u001b[0mprompts\u001b[0m\u001b[0;34m,\u001b[0m \u001b[0moptions\u001b[0m\u001b[0;34m)\u001b[0m\u001b[0;34m)\u001b[0m\u001b[0;34m\u001b[0m\u001b[0;34m\u001b[0m\u001b[0m\n\u001b[0m\u001b[1;32m    134\u001b[0m \u001b[0;34m\u001b[0m\u001b[0m\n\u001b[1;32m    135\u001b[0m     def generate_async(\n",
      "\u001b[0;32m~/opt/anaconda3/lib/python3.9/site-packages/genai/model.py\u001b[0m in \u001b[0;36mgenerate_as_completed\u001b[0;34m(self, prompts, options)\u001b[0m\n\u001b[1;32m    112\u001b[0m                     \u001b[0;32mraise\u001b[0m \u001b[0mGenAiException\u001b[0m\u001b[0;34m(\u001b[0m\u001b[0mresponse_gen\u001b[0m\u001b[0;34m)\u001b[0m\u001b[0;34m\u001b[0m\u001b[0;34m\u001b[0m\u001b[0m\n\u001b[1;32m    113\u001b[0m         \u001b[0;32mexcept\u001b[0m \u001b[0mGenAiException\u001b[0m \u001b[0;32mas\u001b[0m \u001b[0mme\u001b[0m\u001b[0;34m:\u001b[0m\u001b[0;34m\u001b[0m\u001b[0;34m\u001b[0m\u001b[0m\n\u001b[0;32m--> 114\u001b[0;31m             \u001b[0;32mraise\u001b[0m \u001b[0mme\u001b[0m\u001b[0;34m\u001b[0m\u001b[0;34m\u001b[0m\u001b[0m\n\u001b[0m\u001b[1;32m    115\u001b[0m         \u001b[0;32mexcept\u001b[0m \u001b[0mException\u001b[0m \u001b[0;32mas\u001b[0m \u001b[0mex\u001b[0m\u001b[0;34m:\u001b[0m\u001b[0;34m\u001b[0m\u001b[0;34m\u001b[0m\u001b[0m\n\u001b[1;32m    116\u001b[0m             \u001b[0;32mraise\u001b[0m \u001b[0mGenAiException\u001b[0m\u001b[0;34m(\u001b[0m\u001b[0mex\u001b[0m\u001b[0;34m)\u001b[0m\u001b[0;34m\u001b[0m\u001b[0;34m\u001b[0m\u001b[0m\n",
      "\u001b[0;32m~/opt/anaconda3/lib/python3.9/site-packages/genai/model.py\u001b[0m in \u001b[0;36mgenerate_as_completed\u001b[0;34m(self, prompts, options)\u001b[0m\n\u001b[1;32m    110\u001b[0m                         \u001b[0;32myield\u001b[0m \u001b[0mresult\u001b[0m\u001b[0;34m\u001b[0m\u001b[0;34m\u001b[0m\u001b[0m\n\u001b[1;32m    111\u001b[0m                 \u001b[0;32melse\u001b[0m\u001b[0;34m:\u001b[0m\u001b[0;34m\u001b[0m\u001b[0;34m\u001b[0m\u001b[0m\n\u001b[0;32m--> 112\u001b[0;31m                     \u001b[0;32mraise\u001b[0m \u001b[0mGenAiException\u001b[0m\u001b[0;34m(\u001b[0m\u001b[0mresponse_gen\u001b[0m\u001b[0;34m)\u001b[0m\u001b[0;34m\u001b[0m\u001b[0;34m\u001b[0m\u001b[0m\n\u001b[0m\u001b[1;32m    113\u001b[0m         \u001b[0;32mexcept\u001b[0m \u001b[0mGenAiException\u001b[0m \u001b[0;32mas\u001b[0m \u001b[0mme\u001b[0m\u001b[0;34m:\u001b[0m\u001b[0;34m\u001b[0m\u001b[0;34m\u001b[0m\u001b[0m\n\u001b[1;32m    114\u001b[0m             \u001b[0;32mraise\u001b[0m \u001b[0mme\u001b[0m\u001b[0;34m\u001b[0m\u001b[0;34m\u001b[0m\u001b[0m\n",
      "\u001b[0;31mGenAiException\u001b[0m: b'{\"status_code\":503,\"error\":\"Service Unavailable\",\"message\":\"The model is temporarily unavailable. This is most likely a temporary condition.\",\"extensions\":{\"code\":\"SERVICE_UNAVAILABLE\",\"reason\":\"NO_CONNECTION\"}}'"
     ]
    }
   ],
   "source": [
    "generate(top5_input)"
   ]
  }
 ],
 "metadata": {
  "kernelspec": {
   "display_name": "base",
   "language": "python",
   "name": "python3"
  },
  "language_info": {
   "codemirror_mode": {
    "name": "ipython",
    "version": 3
   },
   "file_extension": ".py",
   "mimetype": "text/x-python",
   "name": "python",
   "nbconvert_exporter": "python",
   "pygments_lexer": "ipython3",
   "version": "3.9.13"
  },
  "orig_nbformat": 4
 },
 "nbformat": 4,
 "nbformat_minor": 2
}
