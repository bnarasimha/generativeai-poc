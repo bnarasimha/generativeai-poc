{
 "cells": [
  {
   "cell_type": "code",
   "execution_count": 6,
   "metadata": {},
   "outputs": [
    {
     "name": "stdout",
     "output_type": "stream",
     "text": [
      "['Loved the session.', 'It was very good session. Got the basic understanding of CIO CI CD and its capabilities', 'I was expecting more advanced topics will be covered.\\xa0', 'I am looking forward to implement. Need help.', 'Was a great session. Very well explained.\\xa0']\n",
      "Summarize the below feedback receivd from particiants:\n",
      "['Loved the session.', 'It was very good session. Got the basic understanding of CIO CI CD and its capabilities', 'I was expecting more advanced topics will be covered.\\xa0', 'I am looking forward to implement. Need help.', 'Was a great session. Very well explained.\\xa0']\n",
      "\n"
     ]
    }
   ],
   "source": [
    "import os\n",
    "from genai.credentials import Credentials\n",
    "from genai.schemas import GenerateParams\n",
    "from genai.model import Model\n",
    "from dotenv import load_dotenv\n",
    "import pandas as pd\n",
    "\n",
    "api_key = os.getenv(\"GENAI_KEY\", None)\n",
    "api_url = os.getenv(\"GENAI_API\", None)\n",
    "\n",
    "creds = Credentials(api_key=api_key, api_endpoint=api_url)\n",
    "params = GenerateParams(decoding_method=\"greedy\", min_new_tokens=100, max_new_tokens=150)\n",
    "model = Model(\"bigscience/bloom\", params=params, credentials=creds)\n",
    "\n",
    "df = pd.read_csv(\"../assets/sample_feedback.csv\")\n",
    "\n",
    "text_to_summarize = df[\"Feedback\"].to_list()\n",
    "print(text_to_summarize)\n",
    "\n",
    "prompt = f\"\"\"Summarize the below feedback receivd from particiants:\n",
    "{text_to_summarize}\n",
    "\"\"\"\n",
    "\n",
    "print(prompt)\n",
    "response = model.generate(prompt)\n",
    "print(response.generate_text)\n",
    "\n"
   ]
  }
 ],
 "metadata": {
  "kernelspec": {
   "display_name": "base",
   "language": "python",
   "name": "python3"
  },
  "language_info": {
   "codemirror_mode": {
    "name": "ipython",
    "version": 3
   },
   "file_extension": ".py",
   "mimetype": "text/x-python",
   "name": "python",
   "nbconvert_exporter": "python",
   "pygments_lexer": "ipython3",
   "version": "3.9.13"
  },
  "orig_nbformat": 4
 },
 "nbformat": 4,
 "nbformat_minor": 2
}
