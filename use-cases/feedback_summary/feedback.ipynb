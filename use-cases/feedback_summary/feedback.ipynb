{
 "cells": [
  {
   "cell_type": "code",
   "execution_count": 15,
   "metadata": {},
   "outputs": [],
   "source": [
    "import os\n",
    "import pandas as pd\n",
    "from genai.credentials import Credentials\n",
    "from genai.schemas import GenerateParams\n",
    "from genai.model import Model\n",
    "from dotenv import load_dotenv\n",
    "\n",
    "load_dotenv()\n",
    "api_key = os.getenv(\"GENAI_KEY\", None)\n",
    "api_url = os.getenv(\"GENAI_API\", None)\n",
    "\n",
    "creds = Credentials(api_key=api_key, api_endpoint=api_url)\n",
    "params = GenerateParams(decoding_method=\"greedy\", min_new_tokens=100, max_new_tokens=150)\n",
    "model = Model(\"bigscience/bloom\", params=params, credentials=creds)\n",
    "\n",
    "df = pd.read_csv(\"../../assets/sample_feedback.csv\")\n",
    "df.head()\n",
    "\n",
    "text_to_summarize = df[\"Feedback\"].tolist()\n",
    "\n",
    "prompt = \"\"\"Summarize the following responses: \n",
    "{text_to_summarize}\n",
    "\"\"\"\n"
   ]
  },
  {
   "cell_type": "code",
   "execution_count": 16,
   "metadata": {},
   "outputs": [],
   "source": [
    "def listToString(s):\n",
    " \n",
    "    # initialize an empty string\n",
    "    str1 = \" \"\n",
    " \n",
    "    # return string\n",
    "    return (str1.join(s))"
   ]
  },
  {
   "cell_type": "markdown",
   "metadata": {},
   "source": []
  },
  {
   "cell_type": "code",
   "execution_count": 17,
   "metadata": {},
   "outputs": [
    {
     "name": "stdout",
     "output_type": "stream",
     "text": [
      "Loved the session. It was very good session. Got the basic understanding of CIO CI CD and its capabilities I was expecting more advanced topics will be covered.  I am looking forward to implement. Need help. Was a great session. Very well explained. \n"
     ]
    }
   ],
   "source": [
    "print(listToString(text_to_summarize))\n",
    "\n",
    "# response = model.generate(prompt)\n",
    "# print(response.generated_text)"
   ]
  }
 ],
 "metadata": {
  "kernelspec": {
   "display_name": "base",
   "language": "python",
   "name": "python3"
  },
  "language_info": {
   "codemirror_mode": {
    "name": "ipython",
    "version": 3
   },
   "file_extension": ".py",
   "mimetype": "text/x-python",
   "name": "python",
   "nbconvert_exporter": "python",
   "pygments_lexer": "ipython3",
   "version": "3.9.13"
  },
  "orig_nbformat": 4
 },
 "nbformat": 4,
 "nbformat_minor": 2
}
